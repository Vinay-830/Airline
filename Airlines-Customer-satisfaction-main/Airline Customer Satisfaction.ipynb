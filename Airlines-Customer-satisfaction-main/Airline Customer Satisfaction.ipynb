{
 "cells": [
  {
   "cell_type": "markdown",
   "metadata": {
    "application/vnd.databricks.v1+cell": {
     "cellMetadata": {},
     "inputWidgets": {},
     "nuid": "a1076419-072d-4bb7-b952-821c6acd00aa",
     "showTitle": false,
     "title": ""
    }
   },
   "source": [
    "# Initialize Spark"
   ]
  },
  {
   "cell_type": "code",
   "execution_count": 0,
   "metadata": {
    "application/vnd.databricks.v1+cell": {
     "cellMetadata": {
      "byteLimit": 2048000,
      "rowLimit": 10000
     },
     "inputWidgets": {},
     "nuid": "445394b8-b157-48c1-bca5-322ee7f5d20f",
     "showTitle": false,
     "title": ""
    }
   },
   "outputs": [],
   "source": [
    "import pyspark"
   ]
  },
  {
   "cell_type": "markdown",
   "metadata": {
    "application/vnd.databricks.v1+cell": {
     "cellMetadata": {},
     "inputWidgets": {},
     "nuid": "661e1b1a-39eb-4251-abeb-a928ebd34424",
     "showTitle": false,
     "title": ""
    }
   },
   "source": [
    "# Load Data into Dataframe"
   ]
  },
  {
   "cell_type": "code",
   "execution_count": 0,
   "metadata": {
    "application/vnd.databricks.v1+cell": {
     "cellMetadata": {
      "byteLimit": 2048000,
      "rowLimit": 10000
     },
     "inputWidgets": {},
     "nuid": "10d52043-8d09-4859-a157-326d4479ac63",
     "showTitle": false,
     "title": ""
    }
   },
   "outputs": [],
   "source": [
    "df = sqlContext.sql(\"SELECT * FROM  airline\")"
   ]
  },
  {
   "cell_type": "code",
   "execution_count": 0,
   "metadata": {
    "application/vnd.databricks.v1+cell": {
     "cellMetadata": {
      "byteLimit": 2048000,
      "rowLimit": 10000
     },
     "inputWidgets": {},
     "nuid": "aec6ed5c-e9d4-4e13-bef3-17353e3fe4d9",
     "showTitle": false,
     "title": ""
    }
   },
   "outputs": [
    {
     "output_type": "stream",
     "name": "stdout",
     "output_type": "stream",
     "text": [
      "Out[75]: 129880"
     ]
    }
   ],
   "source": [
    "df.count()"
   ]
  },
  {
   "cell_type": "code",
   "execution_count": 0,
   "metadata": {
    "application/vnd.databricks.v1+cell": {
     "cellMetadata": {
      "byteLimit": 2048000,
      "rowLimit": 10000
     },
     "inputWidgets": {},
     "nuid": "785ee9f0-e582-402d-86a8-c921f2ad6769",
     "showTitle": false,
     "title": ""
    }
   },
   "outputs": [],
   "source": [
    "df = df.na.drop()"
   ]
  },
  {
   "cell_type": "code",
   "execution_count": 0,
   "metadata": {
    "application/vnd.databricks.v1+cell": {
     "cellMetadata": {
      "byteLimit": 2048000,
      "rowLimit": 10000
     },
     "inputWidgets": {},
     "nuid": "60c9be29-5182-49d6-a696-df7ae0e07ed8",
     "showTitle": false,
     "title": ""
    }
   },
   "outputs": [
    {
     "output_type": "stream",
     "name": "stdout",
     "output_type": "stream",
     "text": [
      "+-------+------------+------+-----------------+-----------------+---------------+--------+------------------+------------------+---------------------------------+-----------------+------------------+---------------------+----------------------+------------------+----------------------+------------------+------------------+------------------+------------------+------------------+-----------------+--------------------------+------------------------+\n|summary|satisfaction|Gender|    Customer Type|              Age| Type of Travel|   Class|   Flight Distance|      Seat comfort|Departure/Arrival time convenient|   Food and drink|     Gate location|Inflight wifi service|Inflight entertainment|    Online support|Ease of Online booking|  On-board service|  Leg room service|  Baggage handling|   Checkin service|       Cleanliness|  Online boarding|Departure Delay in Minutes|Arrival Delay in Minutes|\n+-------+------------+------+-----------------+-----------------+---------------+--------+------------------+------------------+---------------------------------+-----------------+------------------+---------------------+----------------------+------------------+----------------------+------------------+------------------+------------------+------------------+------------------+-----------------+--------------------------+------------------------+\n|  count|      129487|129487|           129487|           129487|         129487|  129487|            129487|            129487|                           129487|           129487|            129487|               129487|                129487|            129487|                129487|            129487|            129487|            129487|            129487|            129487|           129487|                    129487|                  129487|\n|   mean|        null|  null|             null|39.42876118838185|           null|    null|1981.0089738738252|2.8385861128916416|                2.990277016225567|2.852023755280453| 2.990377412404334|   3.2491601473506995|    3.3837450863793275| 3.519967255400156|    3.4721709515240913|3.4651432190104026|3.4861182975897194|3.6954597758848378|3.3407291851691676|3.7058855329106395|3.352545043131743|        14.643385050236704|       15.09112883918849|\n| stddev|        null|  null|             null|15.11759674058545|           null|    null|1026.8841311885058|1.3928733383239085|               1.5271833179245455|1.443587344102388|1.3059172907032905|    1.318764761144001|    1.3459594019125156|1.3063256125385105|    1.3055726455623782|1.2707551987497339| 1.292079136796222|1.1564874434469634| 1.260560868434525|  1.15168338728873|1.298623948645024|         37.93286654958318|       38.46565024011906|\n|    min|dissatisfied|Female|   Loyal Customer|                7|Business travel|Business|              50.0|                 0|                                0|                0|                 0|                    0|                     0|                 0|                     0|                 0|                 0|                 1|                 0|                 0|                0|                       0.0|                     0.0|\n|    max|   satisfied|  Male|disloyal Customer|               85|Personal Travel|Eco Plus|            6951.0|                 5|                                5|                5|                 5|                    5|                     5|                 5|                     5|                 5|                 5|                 5|                 5|                 5|                5|                    1592.0|                  1584.0|\n+-------+------------+------+-----------------+-----------------+---------------+--------+------------------+------------------+---------------------------------+-----------------+------------------+---------------------+----------------------+------------------+----------------------+------------------+------------------+------------------+------------------+------------------+-----------------+--------------------------+------------------------+\n\n"
     ]
    }
   ],
   "source": [
    "df.describe().show()"
   ]
  },
  {
   "cell_type": "markdown",
   "metadata": {
    "application/vnd.databricks.v1+cell": {
     "cellMetadata": {},
     "inputWidgets": {},
     "nuid": "e23eb08c-7cec-4ed7-aaad-da35db8c99bd",
     "showTitle": false,
     "title": ""
    }
   },
   "source": [
    "# Modelling"
   ]
  },
  {
   "cell_type": "code",
   "execution_count": 0,
   "metadata": {
    "application/vnd.databricks.v1+cell": {
     "cellMetadata": {},
     "inputWidgets": {},
     "nuid": "ca772c51-aaf1-47d7-aa34-929d4312370c",
     "showTitle": false,
     "title": ""
    }
   },
   "outputs": [],
   "source": [
    "## Extract String and columns"
   ]
  },
  {
   "cell_type": "code",
   "execution_count": 0,
   "metadata": {
    "application/vnd.databricks.v1+cell": {
     "cellMetadata": {
      "byteLimit": 2048000,
      "rowLimit": 10000
     },
     "inputWidgets": {},
     "nuid": "63bf4f36-9daf-4d22-860d-22168fea79fb",
     "showTitle": false,
     "title": ""
    }
   },
   "outputs": [
    {
     "output_type": "stream",
     "name": "stdout",
     "output_type": "stream",
     "text": [
      "Out[78]: pyspark.sql.types.StringType"
     ]
    }
   ],
   "source": [
    "from pyspark.sql.types import StringType\n",
    "type(df.schema[0].dataType)"
   ]
  },
  {
   "cell_type": "code",
   "execution_count": 0,
   "metadata": {
    "application/vnd.databricks.v1+cell": {
     "cellMetadata": {
      "byteLimit": 2048000,
      "rowLimit": 10000
     },
     "inputWidgets": {},
     "nuid": "46c10102-2846-4bc2-bfa6-dea4c1fd44be",
     "showTitle": false,
     "title": ""
    }
   },
   "outputs": [
    {
     "output_type": "stream",
     "name": "stdout",
     "output_type": "stream",
     "text": [
      "Out[79]: True"
     ]
    }
   ],
   "source": [
    "isinstance(df.schema[0].dataType, StringType)"
   ]
  },
  {
   "cell_type": "code",
   "execution_count": 0,
   "metadata": {
    "application/vnd.databricks.v1+cell": {
     "cellMetadata": {
      "byteLimit": 2048000,
      "rowLimit": 10000
     },
     "inputWidgets": {},
     "nuid": "05094ccd-e6ca-4253-8699-b5f0900c4238",
     "showTitle": false,
     "title": ""
    }
   },
   "outputs": [],
   "source": [
    "str_cols = []\n",
    "nstr_cols = []\n",
    "for i in df.schema:\n",
    "    if(isinstance(i.dataType, StringType)):\n",
    "        str_cols.append(i.name)\n",
    "    else:\n",
    "        nstr_cols.append(i.name)"
   ]
  },
  {
   "cell_type": "code",
   "execution_count": 0,
   "metadata": {
    "application/vnd.databricks.v1+cell": {
     "cellMetadata": {
      "byteLimit": 2048000,
      "rowLimit": 10000
     },
     "inputWidgets": {},
     "nuid": "92df9158-9f24-42b5-9bd7-939aa21101aa",
     "showTitle": false,
     "title": ""
    }
   },
   "outputs": [
    {
     "output_type": "stream",
     "name": "stdout",
     "output_type": "stream",
     "text": [
      "Out[81]: ['satisfaction',\n 'Gender',\n 'Customer Type',\n 'Age',\n 'Type of Travel',\n 'Class',\n 'Flight Distance',\n 'Seat comfort',\n 'Departure/Arrival time convenient',\n 'Food and drink',\n 'Gate location',\n 'Inflight wifi service',\n 'Inflight entertainment',\n 'Online support',\n 'Ease of Online booking',\n 'On-board service',\n 'Leg room service',\n 'Baggage handling',\n 'Checkin service',\n 'Cleanliness',\n 'Online boarding',\n 'Departure Delay in Minutes',\n 'Arrival Delay in Minutes']"
     ]
    }
   ],
   "source": [
    "df.columns"
   ]
  },
  {
   "cell_type": "markdown",
   "metadata": {
    "application/vnd.databricks.v1+cell": {
     "cellMetadata": {
      "byteLimit": 2048000,
      "rowLimit": 10000
     },
     "inputWidgets": {},
     "nuid": "09aa5495-f465-4387-98dc-0c512381378e",
     "showTitle": false,
     "title": ""
    }
   },
   "source": [
    "## String Indexing and One Hot Encoder"
   ]
  },
  {
   "cell_type": "code",
   "execution_count": 0,
   "metadata": {
    "application/vnd.databricks.v1+cell": {
     "cellMetadata": {
      "byteLimit": 2048000,
      "rowLimit": 10000
     },
     "inputWidgets": {},
     "nuid": "2bf93e50-fde3-4030-80c6-2538812bb777",
     "showTitle": false,
     "title": ""
    }
   },
   "outputs": [],
   "source": [
    "from pyspark.ml.feature import StringIndexer, OneHotEncoder, VectorAssembler"
   ]
  },
  {
   "cell_type": "code",
   "execution_count": 0,
   "metadata": {
    "application/vnd.databricks.v1+cell": {
     "cellMetadata": {
      "byteLimit": 2048000,
      "rowLimit": 10000
     },
     "inputWidgets": {},
     "nuid": "2654c8c8-3282-48da-a300-2b73510312b7",
     "showTitle": false,
     "title": ""
    }
   },
   "outputs": [
    {
     "output_type": "stream",
     "name": "stdout",
     "output_type": "stream",
     "text": [
      "Out[83]: ['satisfaction', 'Gender', 'Customer Type', 'Type of Travel', 'Class']"
     ]
    }
   ],
   "source": [
    "str_cols"
   ]
  },
  {
   "cell_type": "markdown",
   "metadata": {
    "application/vnd.databricks.v1+cell": {
     "cellMetadata": {},
     "inputWidgets": {},
     "nuid": "7ef53f29-ab5d-40f9-9d61-77dc7cce0828",
     "showTitle": false,
     "title": ""
    }
   },
   "source": [
    "### Index Label Columns"
   ]
  },
  {
   "cell_type": "code",
   "execution_count": 0,
   "metadata": {
    "application/vnd.databricks.v1+cell": {
     "cellMetadata": {
      "byteLimit": 2048000,
      "rowLimit": 10000
     },
     "inputWidgets": {},
     "nuid": "060bfedd-b216-4f96-9f91-6ed5680b4f69",
     "showTitle": false,
     "title": ""
    }
   },
   "outputs": [],
   "source": [
    "indexer = StringIndexer(inputCol='satisfaction', outputCol='label')\n",
    "index = indexer.fit(df)\n",
    "df = index.transform(df)"
   ]
  },
  {
   "cell_type": "markdown",
   "metadata": {
    "application/vnd.databricks.v1+cell": {
     "cellMetadata": {},
     "inputWidgets": {},
     "nuid": "68c817f9-0ff2-4a95-b323-33d43cd70aab",
     "showTitle": false,
     "title": ""
    }
   },
   "source": [
    "## Convert Features Columns into Vector OHE"
   ]
  },
  {
   "cell_type": "code",
   "execution_count": 0,
   "metadata": {
    "application/vnd.databricks.v1+cell": {
     "cellMetadata": {
      "byteLimit": 2048000,
      "rowLimit": 10000
     },
     "inputWidgets": {},
     "nuid": "f41a1c4b-42c0-4975-83c2-1ddfe7106e2f",
     "showTitle": false,
     "title": ""
    }
   },
   "outputs": [],
   "source": [
    "ohe = []\n",
    "indexer = []\n",
    "encoder = []\n",
    "for col in str_cols[1:]:\n",
    "    output_ind = col + \"Ind\"\n",
    "    output_vect = col + \"Vec\"\n",
    "    indexer.append(StringIndexer(inputCol=col, outputCol=output_ind))\n",
    "    encoder.append(OneHotEncoder(inputCol=output_ind, outputCol=output_vect))\n",
    "    ohe.append(output_vect)\n"
   ]
  },
  {
   "cell_type": "code",
   "execution_count": 0,
   "metadata": {
    "application/vnd.databricks.v1+cell": {
     "cellMetadata": {
      "byteLimit": 2048000,
      "rowLimit": 10000
     },
     "inputWidgets": {},
     "nuid": "50a6dac4-146c-4abe-9657-f21a1bb65387",
     "showTitle": false,
     "title": ""
    }
   },
   "outputs": [
    {
     "output_type": "stream",
     "name": "stdout",
     "output_type": "stream",
     "text": [
      "Out[101]: ['Age',\n 'Flight Distance',\n 'Seat comfort',\n 'Departure/Arrival time convenient',\n 'Food and drink',\n 'Gate location',\n 'Inflight wifi service',\n 'Inflight entertainment',\n 'Online support',\n 'Ease of Online booking',\n 'On-board service',\n 'Leg room service',\n 'Baggage handling',\n 'Checkin service',\n 'Cleanliness',\n 'Online boarding',\n 'Departure Delay in Minutes',\n 'Arrival Delay in Minutes']"
     ]
    }
   ],
   "source": [
    "nstr_cols"
   ]
  },
  {
   "cell_type": "markdown",
   "metadata": {
    "application/vnd.databricks.v1+cell": {
     "cellMetadata": {},
     "inputWidgets": {},
     "nuid": "0f018b88-115c-4427-a637-2618867e34e0",
     "showTitle": false,
     "title": ""
    }
   },
   "source": [
    "### assemble all Feature Columns into one"
   ]
  },
  {
   "cell_type": "code",
   "execution_count": 0,
   "metadata": {
    "application/vnd.databricks.v1+cell": {
     "cellMetadata": {
      "byteLimit": 2048000,
      "rowLimit": 10000
     },
     "inputWidgets": {},
     "nuid": "90b0828c-9dd8-4589-a2e9-60bd87392ecd",
     "showTitle": false,
     "title": ""
    }
   },
   "outputs": [],
   "source": [
    "input_cols = nstr_cols + ohe\n",
    "assembler = VectorAssembler(inputCols=input_cols,outputCol=\"features\")"
   ]
  },
  {
   "cell_type": "markdown",
   "metadata": {
    "application/vnd.databricks.v1+cell": {
     "cellMetadata": {},
     "inputWidgets": {},
     "nuid": "1faa9160-2200-4a06-b151-aef0f5c1c5a5",
     "showTitle": false,
     "title": ""
    }
   },
   "source": [
    "## Logistic Regression"
   ]
  },
  {
   "cell_type": "code",
   "execution_count": 0,
   "metadata": {
    "application/vnd.databricks.v1+cell": {
     "cellMetadata": {
      "byteLimit": 2048000,
      "rowLimit": 10000
     },
     "inputWidgets": {},
     "nuid": "9da75b6b-daf3-4c42-8323-4d7d6924be5a",
     "showTitle": false,
     "title": ""
    }
   },
   "outputs": [],
   "source": [
    "from pyspark.ml.classification import LogisticRegression"
   ]
  },
  {
   "cell_type": "code",
   "execution_count": 0,
   "metadata": {
    "application/vnd.databricks.v1+cell": {
     "cellMetadata": {
      "byteLimit": 2048000,
      "rowLimit": 10000
     },
     "inputWidgets": {},
     "nuid": "3462ac9f-b456-4239-a0fe-f3845f480a56",
     "showTitle": false,
     "title": ""
    }
   },
   "outputs": [],
   "source": [
    "lr = LogisticRegression(featuresCol='features', labelCol=\"label\", predictionCol='prediction')"
   ]
  },
  {
   "cell_type": "markdown",
   "metadata": {
    "application/vnd.databricks.v1+cell": {
     "cellMetadata": {},
     "inputWidgets": {},
     "nuid": "1fe001c5-b2a5-48ed-a96a-68075fe0c634",
     "showTitle": false,
     "title": ""
    }
   },
   "source": [
    "## pipeline"
   ]
  },
  {
   "cell_type": "code",
   "execution_count": 0,
   "metadata": {
    "application/vnd.databricks.v1+cell": {
     "cellMetadata": {
      "byteLimit": 2048000,
      "rowLimit": 10000
     },
     "inputWidgets": {},
     "nuid": "d1c298d3-8e8a-4a99-9d2c-7600f773d37e",
     "showTitle": false,
     "title": ""
    }
   },
   "outputs": [],
   "source": [
    "from pyspark.ml import Pipeline"
   ]
  },
  {
   "cell_type": "code",
   "execution_count": 0,
   "metadata": {
    "application/vnd.databricks.v1+cell": {
     "cellMetadata": {
      "byteLimit": 2048000,
      "rowLimit": 10000
     },
     "inputWidgets": {},
     "nuid": "2b00603f-8b3e-410b-9111-0aaaefaea40d",
     "showTitle": false,
     "title": ""
    }
   },
   "outputs": [],
   "source": [
    "stages = indexer + encoder + [assembler, lr]\n",
    "pipeline = Pipeline(stages=stages)"
   ]
  },
  {
   "cell_type": "markdown",
   "metadata": {
    "application/vnd.databricks.v1+cell": {
     "cellMetadata": {},
     "inputWidgets": {},
     "nuid": "05c820b9-b7a9-4e07-88d7-c24ca6d17a37",
     "showTitle": false,
     "title": ""
    }
   },
   "source": [
    "### Split the data into Train and Test in 70-30"
   ]
  },
  {
   "cell_type": "code",
   "execution_count": 0,
   "metadata": {
    "application/vnd.databricks.v1+cell": {
     "cellMetadata": {
      "byteLimit": 2048000,
      "rowLimit": 10000
     },
     "inputWidgets": {},
     "nuid": "9529239b-6901-4233-a2e9-7cf971f7a113",
     "showTitle": false,
     "title": ""
    }
   },
   "outputs": [],
   "source": [
    "train, test = df.randomSplit([0.7, 0.3])"
   ]
  },
  {
   "cell_type": "code",
   "execution_count": 0,
   "metadata": {
    "application/vnd.databricks.v1+cell": {
     "cellMetadata": {
      "byteLimit": 2048000,
      "rowLimit": 10000
     },
     "inputWidgets": {},
     "nuid": "471df71e-1281-492e-bc40-80d38021e8f4",
     "showTitle": false,
     "title": ""
    }
   },
   "outputs": [],
   "source": [
    "fit_model = pipeline.fit(train)"
   ]
  },
  {
   "cell_type": "code",
   "execution_count": 0,
   "metadata": {
    "application/vnd.databricks.v1+cell": {
     "cellMetadata": {
      "byteLimit": 2048000,
      "rowLimit": 10000
     },
     "inputWidgets": {},
     "nuid": "6cfd3930-05ae-4b75-a64b-9ca54570bff5",
     "showTitle": false,
     "title": ""
    }
   },
   "outputs": [],
   "source": [
    "result = fit_model.transform(test)"
   ]
  },
  {
   "cell_type": "code",
   "execution_count": 0,
   "metadata": {
    "application/vnd.databricks.v1+cell": {
     "cellMetadata": {
      "byteLimit": 2048000,
      "rowLimit": 10000
     },
     "inputWidgets": {},
     "nuid": "c8ff9c88-2f19-4eea-85b7-abc6128d04f6",
     "showTitle": false,
     "title": ""
    }
   },
   "outputs": [
    {
     "output_type": "stream",
     "name": "stdout",
     "output_type": "stream",
     "text": [
      "+------------+-----+----------+--------------------+\n|satisfaction|label|prediction|         probability|\n+------------+-----+----------+--------------------+\n|dissatisfied|  1.0|       0.0|[0.87206612086272...|\n|dissatisfied|  1.0|       0.0|[0.82074678114694...|\n|dissatisfied|  1.0|       0.0|[0.71203485561072...|\n|dissatisfied|  1.0|       0.0|[0.93924251699435...|\n|dissatisfied|  1.0|       1.0|[0.18712622051982...|\n|dissatisfied|  1.0|       1.0|[0.09396864514124...|\n|dissatisfied|  1.0|       0.0|[0.63890634197709...|\n|dissatisfied|  1.0|       1.0|[0.21412476994584...|\n|dissatisfied|  1.0|       1.0|[0.42018694199280...|\n|dissatisfied|  1.0|       0.0|[0.69379414473621...|\n|dissatisfied|  1.0|       0.0|[0.76622069595541...|\n|dissatisfied|  1.0|       0.0|[0.57204467623110...|\n|dissatisfied|  1.0|       1.0|[0.01157427483969...|\n|dissatisfied|  1.0|       0.0|[0.80933020399834...|\n|dissatisfied|  1.0|       0.0|[0.77909043113628...|\n|dissatisfied|  1.0|       0.0|[0.90001198390385...|\n|dissatisfied|  1.0|       0.0|[0.83958759133238...|\n|dissatisfied|  1.0|       0.0|[0.54292438005630...|\n|dissatisfied|  1.0|       0.0|[0.56163880335725...|\n|dissatisfied|  1.0|       0.0|[0.75801139322985...|\n+------------+-----+----------+--------------------+\nonly showing top 20 rows\n\n"
     ]
    }
   ],
   "source": [
    "result.select('satisfaction', 'label', 'prediction', 'probability').show()"
   ]
  },
  {
   "cell_type": "markdown",
   "metadata": {
    "application/vnd.databricks.v1+cell": {
     "cellMetadata": {},
     "inputWidgets": {},
     "nuid": "21edfcc6-7a3d-479a-b08d-7de50f93c9c5",
     "showTitle": false,
     "title": ""
    }
   },
   "source": [
    "# Evaluator"
   ]
  },
  {
   "cell_type": "code",
   "execution_count": 0,
   "metadata": {
    "application/vnd.databricks.v1+cell": {
     "cellMetadata": {
      "byteLimit": 2048000,
      "rowLimit": 10000
     },
     "inputWidgets": {},
     "nuid": "dac8a27b-b3cb-43cb-8dad-3309bf78d029",
     "showTitle": false,
     "title": ""
    }
   },
   "outputs": [],
   "source": [
    "from pyspark.ml.evaluation import BinaryClassificationEvaluator"
   ]
  },
  {
   "cell_type": "code",
   "execution_count": 0,
   "metadata": {
    "application/vnd.databricks.v1+cell": {
     "cellMetadata": {
      "byteLimit": 2048000,
      "rowLimit": 10000
     },
     "inputWidgets": {},
     "nuid": "d4709488-5680-4095-a3d1-333eaaed1be8",
     "showTitle": false,
     "title": ""
    }
   },
   "outputs": [],
   "source": [
    "evalator = BinaryClassificationEvaluator(rawPredictionCol=\"prediction\", labelCol=\"label\")"
   ]
  },
  {
   "cell_type": "code",
   "execution_count": 0,
   "metadata": {
    "application/vnd.databricks.v1+cell": {
     "cellMetadata": {
      "byteLimit": 2048000,
      "rowLimit": 10000
     },
     "inputWidgets": {},
     "nuid": "7556d87b-bb5d-416d-b1bc-80c091f8929a",
     "showTitle": false,
     "title": ""
    }
   },
   "outputs": [],
   "source": [
    "AUC = evalator.evaluate(result)"
   ]
  },
  {
   "cell_type": "code",
   "execution_count": 0,
   "metadata": {
    "application/vnd.databricks.v1+cell": {
     "cellMetadata": {
      "byteLimit": 2048000,
      "rowLimit": 10000
     },
     "inputWidgets": {},
     "nuid": "79f1970d-228a-4784-a308-1196f9c764d1",
     "showTitle": false,
     "title": ""
    }
   },
   "outputs": [
    {
     "output_type": "stream",
     "name": "stdout",
     "output_type": "stream",
     "text": [
      "Out[121]: 0.8357227813922075"
     ]
    }
   ],
   "source": [
    "AUC"
   ]
  },
  {
   "cell_type": "code",
   "execution_count": 0,
   "metadata": {
    "application/vnd.databricks.v1+cell": {
     "cellMetadata": {
      "byteLimit": 2048000,
      "rowLimit": 10000
     },
     "inputWidgets": {},
     "nuid": "cc38ce4d-6951-45ae-b841-8ee989700f94",
     "showTitle": false,
     "title": ""
    }
   },
   "outputs": [
    {
     "output_type": "stream",
     "name": "stdout",
     "output_type": "stream",
     "text": [
      "Out[123]: ['satisfaction',\n 'Gender',\n 'Customer Type',\n 'Age',\n 'Type of Travel',\n 'Class',\n 'Flight Distance',\n 'Seat comfort',\n 'Departure/Arrival time convenient',\n 'Food and drink',\n 'Gate location',\n 'Inflight wifi service',\n 'Inflight entertainment',\n 'Online support',\n 'Ease of Online booking',\n 'On-board service',\n 'Leg room service',\n 'Baggage handling',\n 'Checkin service',\n 'Cleanliness',\n 'Online boarding',\n 'Departure Delay in Minutes',\n 'Arrival Delay in Minutes',\n 'label',\n 'GenderInd',\n 'Customer TypeInd',\n 'Type of TravelInd',\n 'ClassInd',\n 'GenderVec',\n 'Customer TypeVec',\n 'Type of TravelVec',\n 'ClassVec',\n 'features',\n 'rawPrediction',\n 'probability',\n 'prediction']"
     ]
    }
   ],
   "source": [
    "result.columns"
   ]
  }
 ],
 "metadata": {
  "application/vnd.databricks.v1+notebook": {
   "dashboards": [],
   "language": "python",
   "notebookMetadata": {
    "pythonIndentUnit": 4
   },
   "notebookName": "Airline Customer Satisfaction",
   "widgets": {}
  }
 },
 "nbformat": 4,
 "nbformat_minor": 0
}
